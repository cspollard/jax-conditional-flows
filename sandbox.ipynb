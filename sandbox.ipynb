{
 "cells": [
  {
   "cell_type": "code",
   "execution_count": 68,
   "id": "73496aad-cdbd-45ed-a79d-0f56a96b9984",
   "metadata": {},
   "outputs": [
    {
     "name": "stdout",
     "output_type": "stream",
     "text": [
      "The autoreload extension is already loaded. To reload it, use:\n",
      "  %reload_ext autoreload\n"
     ]
    }
   ],
   "source": [
    "import jax\n",
    "import jax.numpy as jnp\n",
    "from tensorflow_probability.substrates import jax as tfp\n",
    "import numpy as np\n",
    "from flax.linen.module import compact\n",
    "import flax.linen as nn\n",
    "from flax.linen.dtypes import promote_dtype\n",
    "from typing import Any, List\n",
    "import dataclasses\n",
    "import distrax\n",
    "\n",
    "Array = Any\n",
    "\n",
    "%load_ext autoreload\n",
    "%autoreload 2\n"
   ]
  },
  {
   "cell_type": "code",
   "execution_count": 69,
   "id": "bc55ddc7-4ba5-4ee0-a508-7042d3a17e3f",
   "metadata": {},
   "outputs": [],
   "source": [
    "tfd = tfp.distributions\n",
    "tfb = tfp.bijectors"
   ]
  },
  {
   "cell_type": "code",
   "execution_count": 70,
   "id": "1076affc",
   "metadata": {},
   "outputs": [],
   "source": [
    "import sys\n",
    "sys.path.append(\"../\")\n",
    "\n",
    "from modules.autoregressive import  MADE\n",
    "from modules.utils import make_shift_and_scale"
   ]
  },
  {
   "cell_type": "code",
   "execution_count": 71,
   "id": "41364506",
   "metadata": {},
   "outputs": [],
   "source": [
    "class MaskedAutoregressiveFlow(nn.Module):\n",
    "    n_dim: int\n",
    "    n_transforms: int = 8\n",
    "    hidden_dims: List[int] = dataclasses.field(default_factory=lambda: [32, 32])\n",
    "    activation: str = \"tanh\"\n",
    "    use_random_permutations: bool = False\n",
    "    rng_key: jnp.ndarray = jax.random.PRNGKey(0)\n",
    "\n",
    "    def setup(self):\n",
    "\n",
    "        self.bij = [MADE(bijector_fn=make_shift_and_scale, n_params=self.n_dim, activation=self.activation, hidden_dims=self.hidden_dims, name=\"made_{}\".format(i)) for i in range(self.n_transforms)]\n",
    "\n",
    "        # Need to unroll loop since Jax transforms and Flax models cannot be mixed\n",
    "        bijectors = []\n",
    "        key = self.rng_key\n",
    "        for i in range(self.n_transforms):\n",
    "            if self.use_random_permutations:\n",
    "                bijectors.append(tfb.Permute(jax.random.choice(key, jnp.arange(self.n_dim), shape=(self.n_dim,), replace=False)))\n",
    "                key, _ = jax.random.split(key)\n",
    "            else:\n",
    "                bijectors.append(tfb.Permute(list(reversed(range(self.n_dim)))))\n",
    "            bijectors.append(tfb.MaskedAutoregressiveFlow(bijector_fn=self.bij[i]))\n",
    "\n",
    "        self.bijector: distrax.Bijector = distrax.Chain(bijectors)\n",
    "\n",
    "    def make_flow_model(self):\n",
    "\n",
    "        flow = self.bijector\n",
    "        base_dist = distrax.MultivariateNormalDiag(jnp.zeros(self.n_dim), jnp.ones(self.n_dim))\n",
    "\n",
    "        return flow, base_dist\n",
    "\n",
    "    def __call__(self, x: jnp.array) -> jnp.array:\n",
    "        flow, base_dist = self.make_flow_model()\n",
    "        return distrax.Transformed(base_dist, flow).log_prob(x)"
   ]
  },
  {
   "cell_type": "code",
   "execution_count": 72,
   "id": "e64cbdd6",
   "metadata": {},
   "outputs": [],
   "source": [
    "maf = MaskedAutoregressiveFlow(n_dim=2, use_random_permutations=True)\n",
    "\n",
    "key = jax.random.PRNGKey(2)\n",
    "x = jax.random.uniform(key=key, shape=(32, 2))\n",
    "\n",
    "params = maf.init(key, x)"
   ]
  },
  {
   "cell_type": "code",
   "execution_count": null,
   "id": "8ccf3172",
   "metadata": {},
   "outputs": [],
   "source": []
  }
 ],
 "metadata": {
  "kernelspec": {
   "display_name": "torch-mps",
   "language": "python",
   "name": "python3"
  },
  "language_info": {
   "codemirror_mode": {
    "name": "ipython",
    "version": 3
   },
   "file_extension": ".py",
   "mimetype": "text/x-python",
   "name": "python",
   "nbconvert_exporter": "python",
   "pygments_lexer": "ipython3",
   "version": "3.9.13"
  },
  "vscode": {
   "interpreter": {
    "hash": "5a325371ee47cd2db67c59416e547ef31e4d442734b91c29d6adc5acbdc2dc08"
   }
  }
 },
 "nbformat": 4,
 "nbformat_minor": 5
}
