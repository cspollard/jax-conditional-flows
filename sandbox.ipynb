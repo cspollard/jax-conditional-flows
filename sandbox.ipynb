{
 "cells": [
  {
   "cell_type": "code",
   "execution_count": 149,
   "id": "73496aad-cdbd-45ed-a79d-0f56a96b9984",
   "metadata": {},
   "outputs": [
    {
     "name": "stdout",
     "output_type": "stream",
     "text": [
      "The autoreload extension is already loaded. To reload it, use:\n",
      "  %reload_ext autoreload\n"
     ]
    }
   ],
   "source": [
    "import jax\n",
    "import jax.numpy as jnp\n",
    "from tensorflow_probability.substrates import jax as tfp\n",
    "import numpy as np\n",
    "from flax.linen.module import compact\n",
    "import flax.linen as nn\n",
    "from flax.linen.dtypes import promote_dtype\n",
    "from typing import Any, List\n",
    "import dataclasses\n",
    "import distrax\n",
    "\n",
    "Array = Any\n",
    "\n",
    "%load_ext autoreload\n",
    "%autoreload 2\n"
   ]
  },
  {
   "cell_type": "code",
   "execution_count": 150,
   "id": "bc55ddc7-4ba5-4ee0-a508-7042d3a17e3f",
   "metadata": {},
   "outputs": [],
   "source": [
    "tfd = tfp.distributions\n",
    "tfb = tfp.bijectors"
   ]
  },
  {
   "cell_type": "code",
   "execution_count": 151,
   "id": "1076affc",
   "metadata": {},
   "outputs": [],
   "source": [
    "import sys\n",
    "sys.path.append(\"../\")\n",
    "\n",
    "from modules.autoregressive import MADE\n",
    "from modules.utils import make_shift_and_scale"
   ]
  },
  {
   "cell_type": "code",
   "execution_count": 158,
   "id": "41364506",
   "metadata": {},
   "outputs": [],
   "source": [
    "class MaskedAutoregressiveFlow(nn.Module):\n",
    "    n_dim: int\n",
    "    n_context: int = 0\n",
    "    n_transforms: int = 1\n",
    "    hidden_dims: List[int] = dataclasses.field(default_factory=lambda: [32, 32])\n",
    "    activation: str = \"tanh\"\n",
    "    use_random_permutations: bool = False\n",
    "    rng_key: jnp.ndarray = jax.random.PRNGKey(0)\n",
    "\n",
    "    def setup(self):\n",
    "\n",
    "        self.bij = [MADE(bijector_fn=make_shift_and_scale, n_params=self.n_dim, n_context=self.n_context, activation=self.activation, hidden_dims=self.hidden_dims, name=\"made_{}\".format(i)) for i in range(self.n_transforms)]\n",
    "\n",
    "        # Need to unroll loop since Jax transforms and Flax models cannot be mixed\n",
    "        bijectors = []\n",
    "        key = self.rng_key\n",
    "        for i in range(self.n_transforms):\n",
    "            if self.use_random_permutations:\n",
    "                bijectors.append(tfb.Permute(jax.random.choice(key, jnp.arange(self.n_dim), shape=(self.n_dim,), replace=False)))\n",
    "                key, _ = jax.random.split(key)\n",
    "            else:\n",
    "                bijectors.append(tfb.Permute(list(reversed(range(self.n_dim)))))\n",
    "            bijectors.append(tfb.MaskedAutoregressiveFlow(bijector_fn=self.bij[i]))\n",
    "\n",
    "        self.bijector: distrax.Bijector = distrax.Chain(bijectors)\n",
    "\n",
    "    def make_flow_model(self):\n",
    "\n",
    "        flow = self.bijector\n",
    "        base_dist = distrax.MultivariateNormalDiag(jnp.zeros(self.n_dim), jnp.ones(self.n_dim))\n",
    "\n",
    "        return flow, base_dist\n",
    "\n",
    "    def __call__(self, x: jnp.array) -> jnp.array:\n",
    "        flow, base_dist = self.make_flow_model()\n",
    "        return distrax.Transformed(base_dist, flow).log_prob(x)"
   ]
  },
  {
   "cell_type": "code",
   "execution_count": 159,
   "id": "e64cbdd6",
   "metadata": {},
   "outputs": [
    {
     "ename": "TypeError",
     "evalue": "log_prob() got an unexpected keyword argument 'context'",
     "output_type": "error",
     "traceback": [
      "\u001b[0;31m---------------------------------------------------------------------------\u001b[0m",
      "\u001b[0;31mTypeError\u001b[0m                                 Traceback (most recent call last)",
      "Cell \u001b[0;32mIn [159], line 5\u001b[0m\n\u001b[1;32m      3\u001b[0m key \u001b[39m=\u001b[39m jax\u001b[39m.\u001b[39mrandom\u001b[39m.\u001b[39mPRNGKey(\u001b[39m2\u001b[39m)\n\u001b[1;32m      4\u001b[0m x \u001b[39m=\u001b[39m jax\u001b[39m.\u001b[39mrandom\u001b[39m.\u001b[39muniform(key\u001b[39m=\u001b[39mkey, shape\u001b[39m=\u001b[39m(\u001b[39m8\u001b[39m, \u001b[39m5\u001b[39m))\n\u001b[0;32m----> 5\u001b[0m params \u001b[39m=\u001b[39m maf\u001b[39m.\u001b[39;49minit(key, x)\n",
      "    \u001b[0;31m[... skipping hidden 9 frame]\u001b[0m\n",
      "Cell \u001b[0;32mIn [158], line 36\u001b[0m, in \u001b[0;36mMaskedAutoregressiveFlow.__call__\u001b[0;34m(self, x)\u001b[0m\n\u001b[1;32m     34\u001b[0m \u001b[39mdef\u001b[39;00m \u001b[39m__call__\u001b[39m(\u001b[39mself\u001b[39m, x: jnp\u001b[39m.\u001b[39marray) \u001b[39m-\u001b[39m\u001b[39m>\u001b[39m jnp\u001b[39m.\u001b[39marray:\n\u001b[1;32m     35\u001b[0m     flow, base_dist \u001b[39m=\u001b[39m \u001b[39mself\u001b[39m\u001b[39m.\u001b[39mmake_flow_model()\n\u001b[0;32m---> 36\u001b[0m     \u001b[39mreturn\u001b[39;00m distrax\u001b[39m.\u001b[39;49mTransformed(base_dist, flow)\u001b[39m.\u001b[39;49mlog_prob(x, context\u001b[39m=\u001b[39;49m\u001b[39m1\u001b[39;49m)\n",
      "\u001b[0;31mTypeError\u001b[0m: log_prob() got an unexpected keyword argument 'context'"
     ]
    }
   ],
   "source": [
    "maf = MaskedAutoregressiveFlow(n_dim=5, n_context=0)\n",
    "\n",
    "key = jax.random.PRNGKey(2)\n",
    "x = jax.random.uniform(key=key, shape=(8, 5))\n",
    "params = maf.init(key, x)"
   ]
  },
  {
   "cell_type": "code",
   "execution_count": null,
   "id": "8ccf3172",
   "metadata": {},
   "outputs": [],
   "source": []
  },
  {
   "cell_type": "code",
   "execution_count": null,
   "id": "46e859a4",
   "metadata": {},
   "outputs": [],
   "source": []
  }
 ],
 "metadata": {
  "kernelspec": {
   "display_name": "torch-mps",
   "language": "python",
   "name": "python3"
  },
  "language_info": {
   "codemirror_mode": {
    "name": "ipython",
    "version": 3
   },
   "file_extension": ".py",
   "mimetype": "text/x-python",
   "name": "python",
   "nbconvert_exporter": "python",
   "pygments_lexer": "ipython3",
   "version": "3.9.13"
  },
  "vscode": {
   "interpreter": {
    "hash": "5a325371ee47cd2db67c59416e547ef31e4d442734b91c29d6adc5acbdc2dc08"
   }
  }
 },
 "nbformat": 4,
 "nbformat_minor": 5
}
