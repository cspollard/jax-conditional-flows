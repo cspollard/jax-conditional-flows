{
 "cells": [
  {
   "cell_type": "code",
   "execution_count": 388,
   "id": "73496aad-cdbd-45ed-a79d-0f56a96b9984",
   "metadata": {},
   "outputs": [
    {
     "name": "stdout",
     "output_type": "stream",
     "text": [
      "The autoreload extension is already loaded. To reload it, use:\n",
      "  %reload_ext autoreload\n"
     ]
    }
   ],
   "source": [
    "import jax\n",
    "import jax.numpy as jnp\n",
    "from tensorflow_probability.substrates import jax as tfp\n",
    "import numpy as np\n",
    "from flax.linen.module import compact\n",
    "import flax.linen as nn\n",
    "from flax.linen.dtypes import promote_dtype\n",
    "from typing import Any, List\n",
    "import dataclasses\n",
    "import distrax\n",
    "\n",
    "Array = Any\n",
    "\n",
    "%load_ext autoreload\n",
    "%autoreload 2\n"
   ]
  },
  {
   "cell_type": "code",
   "execution_count": 389,
   "id": "bc55ddc7-4ba5-4ee0-a508-7042d3a17e3f",
   "metadata": {},
   "outputs": [],
   "source": [
    "tfd = tfp.distributions\n",
    "tfb = tfp.bijectors"
   ]
  },
  {
   "cell_type": "code",
   "execution_count": 390,
   "id": "1076affc",
   "metadata": {},
   "outputs": [],
   "source": [
    "import sys\n",
    "sys.path.append(\"../\")\n",
    "\n",
    "from modules.autoregressive import MADE\n",
    "from modules.utils import make_shift_and_scale"
   ]
  },
  {
   "cell_type": "code",
   "execution_count": 391,
   "id": "41364506",
   "metadata": {},
   "outputs": [],
   "source": [
    "# Distrax version\n",
    "\n",
    "class MaskedAutoregressiveFlow(nn.Module):\n",
    "    n_dim: int\n",
    "    n_context: int = 0\n",
    "    n_transforms: int = 1\n",
    "    hidden_dims: List[int] = dataclasses.field(default_factory=lambda: [32, 32])\n",
    "    activation: str = \"tanh\"\n",
    "    use_random_permutations: bool = False\n",
    "    rng_key: jnp.ndarray = jax.random.PRNGKey(0)\n",
    "\n",
    "    def setup(self):\n",
    "\n",
    "        self.bij = [MADE(bijector_fn=make_shift_and_scale, n_params=self.n_dim, n_context=self.n_context, activation=self.activation, hidden_dims=self.hidden_dims, name=\"made_{}\".format(i)) for i in range(self.n_transforms)]\n",
    "\n",
    "        # Need to unroll loop since Jax transforms and Flax models cannot be mixed (only for tfp; does not apply to distrax)\n",
    "        bijectors = []\n",
    "        key = self.rng_key\n",
    "        for i in range(self.n_transforms):\n",
    "            if self.use_random_permutations:\n",
    "                bijectors.append(tfb.Permute(jax.random.choice(key, jnp.arange(self.n_dim), shape=(self.n_dim,))))\n",
    "                key, _ = jax.random.split(key)\n",
    "            else:\n",
    "                bijectors.append(tfb.Permute(list(reversed(range(self.n_dim)))))\n",
    "            bijectors.append(tfb.MaskedAutoregressiveFlow(bijector_fn=self.bij[i], name=\"maf_{}\".format(i), unroll_loop=True))\n",
    "\n",
    "        self.bijector = distrax.Inverse(distrax.Chain(bijectors))\n",
    "\n",
    "    def make_flow_model(self):\n",
    "\n",
    "        flow = self.bijector\n",
    "        base_dist = distrax.MultivariateNormalDiag(jnp.zeros(self.n_dim), jnp.ones(self.n_dim))\n",
    "\n",
    "        return flow, base_dist\n",
    "\n",
    "    def __call__(self, x: jnp.array) -> jnp.array:\n",
    "        flow, base_dist = self.make_flow_model()\n",
    "        return distrax.Transformed(base_dist, flow).log_prob(x)\n"
   ]
  },
  {
   "cell_type": "code",
   "execution_count": 395,
   "id": "11cff4bb",
   "metadata": {},
   "outputs": [],
   "source": [
    "# # TFP version\n",
    "\n",
    "# class MaskedAutoregressiveFlow(nn.Module):\n",
    "#     n_dim: int\n",
    "#     n_context: int = 0\n",
    "#     n_transforms: int = 1\n",
    "#     hidden_dims: List[int] = dataclasses.field(default_factory=lambda: [32, 32])\n",
    "#     activation: str = \"tanh\"\n",
    "#     use_random_permutations: bool = False\n",
    "#     rng_key: jnp.ndarray = jax.random.PRNGKey(0)\n",
    "\n",
    "#     def setup(self):\n",
    "\n",
    "#         self.bij = [MADE(bijector_fn=make_shift_and_scale, n_params=self.n_dim, n_context=self.n_context, activation=self.activation, hidden_dims=self.hidden_dims, name=\"made_{}\".format(i)) for i in range(self.n_transforms)]\n",
    "\n",
    "#         # Need to unroll loop since Jax transforms and Flax models cannot be mixed (only for tfp; does not apply to distrax)\n",
    "#         bijectors = []\n",
    "#         key = self.rng_key\n",
    "#         for i in range(self.n_transforms):\n",
    "#             if self.use_random_permutations:\n",
    "#                 bijectors.append(tfb.Permute(jax.random.choice(key, jnp.arange(self.n_dim), shape=(self.n_dim,), replace=False)))\n",
    "#                 key, _ = jax.random.split(key)\n",
    "#             else:\n",
    "#                 bijectors.append(tfb.Permute(list(reversed(range(self.n_dim)))))\n",
    "#             bijectors.append(tfb.MaskedAutoregressiveFlow(bijector_fn=self.bij[i], name=\"maf_{}\".format(i), unroll_loop=True))\n",
    "\n",
    "#         self.bijector = tfb.Invert(tfb.Chain(bijectors))\n",
    "\n",
    "#     def make_flow_model(self):\n",
    "\n",
    "#         flow = self.bijector\n",
    "#         base_dist = tfd.MultivariateNormalDiag(jnp.zeros(self.n_dim), jnp.ones(self.n_dim))\n",
    "\n",
    "#         return flow, base_dist\n",
    "\n",
    "#     def __call__(self, x: jnp.array) -> jnp.array:\n",
    "#         flow, base_dist = self.make_flow_model()\n",
    "#         return tfd.TransformedDistribution(base_dist, flow).log_prob(x)"
   ]
  },
  {
   "cell_type": "code",
   "execution_count": 393,
   "id": "e64cbdd6",
   "metadata": {},
   "outputs": [],
   "source": [
    "maf = MaskedAutoregressiveFlow(n_dim=5, n_context=0)\n",
    "\n",
    "key = jax.random.PRNGKey(2)\n",
    "x = jax.random.uniform(key=key, shape=(8, 5))\n",
    "params = maf.init(key, x)"
   ]
  },
  {
   "cell_type": "code",
   "execution_count": 394,
   "id": "9740947f",
   "metadata": {},
   "outputs": [
    {
     "data": {
      "text/plain": [
       "DeviceArray([-5.675328 , -5.0870647, -4.5857487, -6.44514  , -5.4896765,\n",
       "             -5.291204 , -5.0264626, -5.176293 ], dtype=float32)"
      ]
     },
     "execution_count": 394,
     "metadata": {},
     "output_type": "execute_result"
    }
   ],
   "source": [
    "maf.apply(params, x)"
   ]
  },
  {
   "cell_type": "code",
   "execution_count": null,
   "id": "46e859a4",
   "metadata": {},
   "outputs": [],
   "source": []
  }
 ],
 "metadata": {
  "kernelspec": {
   "display_name": "torch-mps",
   "language": "python",
   "name": "python3"
  },
  "language_info": {
   "codemirror_mode": {
    "name": "ipython",
    "version": 3
   },
   "file_extension": ".py",
   "mimetype": "text/x-python",
   "name": "python",
   "nbconvert_exporter": "python",
   "pygments_lexer": "ipython3",
   "version": "3.9.13"
  },
  "vscode": {
   "interpreter": {
    "hash": "5a325371ee47cd2db67c59416e547ef31e4d442734b91c29d6adc5acbdc2dc08"
   }
  }
 },
 "nbformat": 4,
 "nbformat_minor": 5
}
