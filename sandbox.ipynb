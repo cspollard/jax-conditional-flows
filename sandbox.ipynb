{
 "cells": [
  {
   "cell_type": "code",
   "execution_count": 1,
   "id": "73496aad-cdbd-45ed-a79d-0f56a96b9984",
   "metadata": {},
   "outputs": [],
   "source": [
    "import jax\n",
    "import jax.numpy as jnp\n",
    "import numpy as np\n",
    "\n",
    "from tensorflow_probability.substrates import jax as tfp\n",
    "\n",
    "from flax.linen.module import compact\n",
    "import flax.linen as nn\n",
    "from typing import Any\n",
    "\n",
    "Array = Any"
   ]
  },
  {
   "cell_type": "code",
   "execution_count": 2,
   "id": "bc55ddc7-4ba5-4ee0-a508-7042d3a17e3f",
   "metadata": {},
   "outputs": [],
   "source": [
    "tfd = tfp.distributions\n",
    "tfb = tfp.bijectors"
   ]
  },
  {
   "cell_type": "code",
   "execution_count": 13,
   "id": "be39ab84-c0ab-4c19-9be3-310d22279220",
   "metadata": {},
   "outputs": [],
   "source": [
    "class MaskedDense(nn.Dense):\n",
    "    use_context: bool = False\n",
    "    \n",
    "    @compact\n",
    "    def __call__(self, inputs: Array, context=None, mask=None) -> Array:\n",
    "        \"\"\"\n",
    "        Taken from flax.linen.Dense.\n",
    "        Applies a masked linear transformation to the inputs along the last dimension.\n",
    "        Args:\n",
    "        inputs: The nd-array to be transformed.\n",
    "        Returns:\n",
    "        The transformed input.\n",
    "        \"\"\"\n",
    "        inputs = jnp.asarray(inputs, self.dtype)\n",
    "        if context is not None and self.use_context:\n",
    "            assert (\n",
    "                inputs.shape[0] == context.shape[0]\n",
    "            ), \"inputs and context must have the same batch size\"\n",
    "            inputs = jnp.hstack([inputs, context])\n",
    "\n",
    "        kernel = self.param(\n",
    "            \"kernel\", self.kernel_init, (mask.shape[0], self.features)\n",
    "        )\n",
    "        kernel = jnp.asarray(kernel, self.dtype)\n",
    "        kernel = kernel * mask  # major difference from flax.linen.Dense\n",
    "        y = jax.lax.dot_general(\n",
    "            inputs,\n",
    "            kernel,\n",
    "            (((inputs.ndim - 1,), (0,)), ((), ())),\n",
    "            precision=self.precision,\n",
    "        )\n",
    "        if self.use_bias:\n",
    "            bias = self.param(\"bias\", self.bias_init, (self.features,))\n",
    "            bias = jnp.asarray(bias, self.dtype)\n",
    "            y += jnp.reshape(bias, (1,) * (y.ndim - 1) + (-1,))\n",
    "        return y"
   ]
  },
  {
   "cell_type": "code",
   "execution_count": 14,
   "id": "7538064d-072c-462a-ae73-490e8faf2c92",
   "metadata": {},
   "outputs": [],
   "source": [
    "def make_shift_and_scale(params):\n",
    "    return tfb.Shift(params[..., 0])(tfb.Scale(log_scale=params[..., 1]))"
   ]
  },
  {
   "cell_type": "code",
   "execution_count": 54,
   "id": "3952783b-ab57-4b13-9eca-cb8f7ac7c8fb",
   "metadata": {},
   "outputs": [],
   "source": [
    "class MaskedAutoregressiveBijector(nn.Module):\n",
    "    bijector_fn: Any = make_shift_and_scale\n",
    "    n_params: Any = 2\n",
    "    hidden_dims = [8, 8]\n",
    "        \n",
    "    @compact\n",
    "    def __call__(self, y):\n",
    "        \n",
    "        n_inputs = y.shape[-1]\n",
    "        broadcast_dims = y.shape[:-1]\n",
    "\n",
    "        masks = tfb.masked_autoregressive._make_dense_autoregressive_masks(\n",
    "            self.n_params,\n",
    "            n_inputs, \n",
    "            self.hidden_dims, \n",
    "            input_order='left-to-right'\n",
    "        )\n",
    "        \n",
    "        for mask in masks[:-1]:\n",
    "            y = MaskedDense(features=mask.shape[-1])(y, mask=mask)\n",
    "            y = jax.nn.tanh(y)\n",
    "        y = MaskedDense(features=masks[-1].shape[-1])(y, mask=masks[-1])\n",
    "                \n",
    "        # Unravel the inputs and parameters\n",
    "        params = y.reshape(broadcast_dims + (n_inputs, self.n_params))\n",
    "        \n",
    "        return self.bijector_fn(params)"
   ]
  },
  {
   "cell_type": "code",
   "execution_count": 55,
   "id": "9ab1326e-9f7c-4350-9635-2312a5b22697",
   "metadata": {},
   "outputs": [],
   "source": [
    "bij = MaskedAutoregressiveBijector()\n",
    "\n",
    "key = jax.random.PRNGKey(2)\n",
    "x = jax.random.uniform(key=key, shape=(2,))\n",
    "\n",
    "params = bij.init(key, x)"
   ]
  },
  {
   "cell_type": "code",
   "execution_count": 56,
   "id": "c69c882d-f6df-41d1-b59f-f741d6bf2f79",
   "metadata": {},
   "outputs": [],
   "source": [
    "apply_fn = lambda x: bij.apply({\"params\":params['params']}, x)"
   ]
  },
  {
   "cell_type": "code",
   "execution_count": 57,
   "id": "ab658ec9-e77e-4ffe-98bf-54e4aade5483",
   "metadata": {},
   "outputs": [
    {
     "data": {
      "text/plain": [
       "DeviceArray([1.        , 0.75378555], dtype=float32)"
      ]
     },
     "execution_count": 57,
     "metadata": {},
     "output_type": "execute_result"
    }
   ],
   "source": [
    "apply_fn(x)(jnp.ones(2))"
   ]
  },
  {
   "cell_type": "code",
   "execution_count": 58,
   "id": "77b34607-a7ef-4d14-b2ab-7df2397cc9fb",
   "metadata": {},
   "outputs": [],
   "source": [
    "n_transforms = 4\n",
    "\n",
    "bijectors = []\n",
    "for _ in range(n_transforms):\n",
    "    bijectors.append(tfb.MaskedAutoregressiveFlow(bijector_fn=apply_fn))    \n",
    "bijector = tfb.Chain(bijectors)"
   ]
  },
  {
   "cell_type": "code",
   "execution_count": 59,
   "id": "e2960b03-8def-4cce-94d7-6b933490d65d",
   "metadata": {},
   "outputs": [],
   "source": [
    "maf = tfd.TransformedDistribution(\n",
    "    distribution=tfd.Sample(\n",
    "        tfd.Normal(loc=0., scale=1.), sample_shape=[2]),\n",
    "    bijector=bijector)"
   ]
  },
  {
   "cell_type": "code",
   "execution_count": 60,
   "id": "053613c8-f5ec-4467-8ccb-b79ceb30e3a6",
   "metadata": {},
   "outputs": [
    {
     "data": {
      "text/plain": [
       "DeviceArray([-22.546316, -22.546316, -22.546316, -22.546316], dtype=float32)"
      ]
     },
     "execution_count": 60,
     "metadata": {},
     "output_type": "execute_result"
    }
   ],
   "source": [
    "maf.log_prob(jnp.ones((4,2)))"
   ]
  },
  {
   "cell_type": "code",
   "execution_count": 61,
   "id": "ba53a17c-a7e6-4f7a-9951-a1b5a750be01",
   "metadata": {},
   "outputs": [
    {
     "data": {
      "text/plain": [
       "DeviceArray([[ 0.08482574,  1.3161952 ],\n",
       "             [ 0.29561743, -0.67382956],\n",
       "             [ 0.33432344, -2.570653  ],\n",
       "             [ 0.6481277 , -2.022002  ],\n",
       "             [-0.7824839 ,  3.252925  ],\n",
       "             [ 0.6297971 , -2.1548283 ],\n",
       "             [-0.32787678,  0.72380227],\n",
       "             [-1.6607416 ,  6.293631  ]], dtype=float32)"
      ]
     },
     "execution_count": 61,
     "metadata": {},
     "output_type": "execute_result"
    }
   ],
   "source": [
    "maf.sample(sample_shape=(8,), seed=jax.random.PRNGKey(0))"
   ]
  },
  {
   "cell_type": "code",
   "execution_count": null,
   "id": "e5532cdd-980f-4e9d-be92-36fb814ad578",
   "metadata": {},
   "outputs": [],
   "source": []
  }
 ],
 "metadata": {
  "kernelspec": {
   "display_name": "Python 3 (ipykernel)",
   "language": "python",
   "name": "python3"
  },
  "language_info": {
   "codemirror_mode": {
    "name": "ipython",
    "version": 3
   },
   "file_extension": ".py",
   "mimetype": "text/x-python",
   "name": "python",
   "nbconvert_exporter": "python",
   "pygments_lexer": "ipython3",
   "version": "3.9.13"
  }
 },
 "nbformat": 4,
 "nbformat_minor": 5
}
