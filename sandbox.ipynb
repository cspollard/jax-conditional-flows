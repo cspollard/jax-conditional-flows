{
 "cells": [
  {
   "cell_type": "code",
   "execution_count": 9,
   "id": "73496aad-cdbd-45ed-a79d-0f56a96b9984",
   "metadata": {},
   "outputs": [
    {
     "name": "stdout",
     "output_type": "stream",
     "text": [
      "The autoreload extension is already loaded. To reload it, use:\n",
      "  %reload_ext autoreload\n"
     ]
    }
   ],
   "source": [
    "import jax\n",
    "import jax.numpy as jnp\n",
    "from tensorflow_probability.substrates import jax as tfp\n",
    "import numpy as np\n",
    "from flax.linen.module import compact\n",
    "import flax.linen as nn\n",
    "from flax.linen.dtypes import promote_dtype\n",
    "from typing import Any, List\n",
    "import dataclasses\n",
    "import distrax\n",
    "\n",
    "Array = Any\n",
    "\n",
    "%load_ext autoreload\n",
    "%autoreload 2\n"
   ]
  },
  {
   "cell_type": "code",
   "execution_count": 10,
   "id": "bc55ddc7-4ba5-4ee0-a508-7042d3a17e3f",
   "metadata": {},
   "outputs": [],
   "source": [
    "tfd = tfp.distributions\n",
    "tfb = tfp.bijectors"
   ]
  },
  {
   "cell_type": "code",
   "execution_count": 11,
   "id": "1076affc",
   "metadata": {},
   "outputs": [],
   "source": [
    "import sys\n",
    "sys.path.append(\"../\")\n",
    "\n",
    "from modules.autoregressive import  MaskedAutoregressiveBijector\n",
    "from modules.utils import make_shift_and_scale"
   ]
  },
  {
   "cell_type": "code",
   "execution_count": 12,
   "id": "9ab1326e-9f7c-4350-9635-2312a5b22697",
   "metadata": {},
   "outputs": [],
   "source": [
    "bij = MaskedAutoregressiveBijector(bijector_fn=make_shift_and_scale, n_params=2, hidden_dims=[8, 8], name=\"autoregressive_1\")\n",
    "\n",
    "key = jax.random.PRNGKey(2)\n",
    "x = jax.random.uniform(key=key, shape=(2,))\n",
    "\n",
    "params = bij.init(key, x)"
   ]
  },
  {
   "cell_type": "code",
   "execution_count": 13,
   "id": "c69c882d-f6df-41d1-b59f-f741d6bf2f79",
   "metadata": {},
   "outputs": [],
   "source": [
    "apply_fn = lambda x: bij.apply({\"params\":params['params']}, x)"
   ]
  },
  {
   "cell_type": "code",
   "execution_count": 14,
   "id": "ab658ec9-e77e-4ffe-98bf-54e4aade5483",
   "metadata": {},
   "outputs": [
    {
     "data": {
      "text/plain": [
       "DeviceArray([1.        , 0.75378555], dtype=float32)"
      ]
     },
     "execution_count": 14,
     "metadata": {},
     "output_type": "execute_result"
    }
   ],
   "source": [
    "apply_fn(x)(jnp.ones(2))"
   ]
  },
  {
   "cell_type": "code",
   "execution_count": 15,
   "id": "77b34607-a7ef-4d14-b2ab-7df2397cc9fb",
   "metadata": {},
   "outputs": [],
   "source": [
    "n_transforms = 4\n",
    "\n",
    "bijectors = []\n",
    "for _ in range(n_transforms):\n",
    "    bijectors.append(tfb.MaskedAutoregressiveFlow(bijector_fn=apply_fn)) \n",
    "\n",
    "bijector = distrax.Chain(bijectors)"
   ]
  },
  {
   "cell_type": "code",
   "execution_count": 16,
   "id": "e2960b03-8def-4cce-94d7-6b933490d65d",
   "metadata": {},
   "outputs": [],
   "source": [
    "base_dist = distrax.Independent(\n",
    "            distrax.MultivariateNormalFullCovariance(\n",
    "                loc=jnp.zeros(2),\n",
    "                covariance_matrix=jnp.eye(2),\n",
    "        ))\n",
    "\n",
    "maf = distrax.Transformed(base_dist, bijector)"
   ]
  },
  {
   "cell_type": "code",
   "execution_count": 17,
   "id": "053613c8-f5ec-4467-8ccb-b79ceb30e3a6",
   "metadata": {},
   "outputs": [
    {
     "data": {
      "text/plain": [
       "DeviceArray([-22.546316, -22.546316, -22.546316, -22.546316], dtype=float32)"
      ]
     },
     "execution_count": 17,
     "metadata": {},
     "output_type": "execute_result"
    }
   ],
   "source": [
    "maf.log_prob(jnp.ones((4,2)))"
   ]
  },
  {
   "cell_type": "code",
   "execution_count": 18,
   "id": "ba53a17c-a7e6-4f7a-9951-a1b5a750be01",
   "metadata": {},
   "outputs": [
    {
     "data": {
      "text/plain": [
       "DeviceArray([[ 0.08482574,  1.3161952 ],\n",
       "             [ 0.29561743, -0.67382956],\n",
       "             [ 0.33432344, -2.570653  ],\n",
       "             [ 0.6481277 , -2.022002  ],\n",
       "             [-0.7824839 ,  3.252925  ],\n",
       "             [ 0.6297971 , -2.1548283 ],\n",
       "             [-0.32787678,  0.72380227],\n",
       "             [-1.6607416 ,  6.293631  ]], dtype=float32)"
      ]
     },
     "execution_count": 18,
     "metadata": {},
     "output_type": "execute_result"
    }
   ],
   "source": [
    "maf.sample(sample_shape=(8,), seed=jax.random.PRNGKey(0))"
   ]
  },
  {
   "cell_type": "code",
   "execution_count": 114,
   "id": "41364506",
   "metadata": {},
   "outputs": [],
   "source": [
    "class MaskedAutoregressiveFlow(nn.Module):\n",
    "    n_transforms: int = 10\n",
    "\n",
    "    def setup(self):\n",
    "\n",
    "        self.bij = [MaskedAutoregressiveBijector(bijector_fn=make_shift_and_scale, n_params=2, hidden_dims=[8, 8], name=\"made_{}\".format(i)) for i in range(self.n_transforms)]\n",
    "\n",
    "        # Need to unroll loop since Jax transforms and Flax models cannot be mixed\n",
    "        bijectors = []\n",
    "        for i in range(self.n_transforms):\n",
    "            bijectors.append(tfb.MaskedAutoregressiveFlow(bijector_fn=self.bij[i]))\n",
    "        self.bijector: distrax.Bijector = distrax.Chain(bijectors)\n",
    "\n",
    "    def make_flow(self):\n",
    "        \n",
    "        flow = self.bijector\n",
    "        base_dist = distrax.Independent(\n",
    "                    distrax.MultivariateNormalFullCovariance(\n",
    "                        loc=jnp.zeros(2),\n",
    "                        covariance_matrix=jnp.eye(2),\n",
    "                ))\n",
    "\n",
    "        return flow, base_dist\n",
    "\n",
    "    def __call__(self, x: jnp.array) -> jnp.array:\n",
    "        flow, base_dist = self.make_flow()\n",
    "        return distrax.Transformed(base_dist, flow).log_prob(x)"
   ]
  },
  {
   "cell_type": "code",
   "execution_count": 115,
   "id": "e64cbdd6",
   "metadata": {},
   "outputs": [],
   "source": [
    "maf = MaskedAutoregressiveFlow(n_transforms=10)\n",
    "\n",
    "key = jax.random.PRNGKey(2)\n",
    "x = jax.random.uniform(key=key, shape=(2,))\n",
    "\n",
    "params = maf.init(key, x)"
   ]
  },
  {
   "cell_type": "code",
   "execution_count": 116,
   "id": "d8a99782",
   "metadata": {},
   "outputs": [
    {
     "name": "stderr",
     "output_type": "stream",
     "text": [
      "/var/folders/nx/bx2847k56j3dddp761x637pc0000gn/T/ipykernel_57734/236323635.py:1: FutureWarning: jax.tree_leaves is deprecated, and will be removed in a future release. Use jax.tree_util.tree_leaves instead.\n",
      "  sum(x.size for x in jax.tree_leaves(params))\n"
     ]
    },
    {
     "data": {
      "text/plain": [
       "1320"
      ]
     },
     "execution_count": 116,
     "metadata": {},
     "output_type": "execute_result"
    }
   ],
   "source": [
    "sum(x.size for x in jax.tree_leaves(params))"
   ]
  },
  {
   "cell_type": "code",
   "execution_count": null,
   "id": "e3556191",
   "metadata": {},
   "outputs": [],
   "source": []
  }
 ],
 "metadata": {
  "kernelspec": {
   "display_name": "torch-mps",
   "language": "python",
   "name": "python3"
  },
  "language_info": {
   "codemirror_mode": {
    "name": "ipython",
    "version": 3
   },
   "file_extension": ".py",
   "mimetype": "text/x-python",
   "name": "python",
   "nbconvert_exporter": "python",
   "pygments_lexer": "ipython3",
   "version": "3.9.13"
  },
  "vscode": {
   "interpreter": {
    "hash": "5a325371ee47cd2db67c59416e547ef31e4d442734b91c29d6adc5acbdc2dc08"
   }
  }
 },
 "nbformat": 4,
 "nbformat_minor": 5
}
