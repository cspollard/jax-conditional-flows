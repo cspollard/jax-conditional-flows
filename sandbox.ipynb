{
 "cells": [
  {
   "cell_type": "code",
   "execution_count": 1,
   "id": "73496aad-cdbd-45ed-a79d-0f56a96b9984",
   "metadata": {},
   "outputs": [],
   "source": [
    "import jax\n",
    "import jax.numpy as jnp\n",
    "from tensorflow_probability.substrates import jax as tfp\n",
    "import numpy as np\n",
    "from flax.linen.module import compact\n",
    "import flax.linen as nn\n",
    "from flax.linen.dtypes import promote_dtype\n",
    "from typing import Any, List\n",
    "import dataclasses\n",
    "import distrax\n",
    "\n",
    "Array = Any\n",
    "\n",
    "%load_ext autoreload\n",
    "%autoreload 2\n"
   ]
  },
  {
   "cell_type": "code",
   "execution_count": 2,
   "id": "bc55ddc7-4ba5-4ee0-a508-7042d3a17e3f",
   "metadata": {},
   "outputs": [],
   "source": [
    "tfd = tfp.distributions\n",
    "tfb = tfp.bijectors"
   ]
  },
  {
   "cell_type": "code",
   "execution_count": 3,
   "id": "1076affc",
   "metadata": {},
   "outputs": [],
   "source": [
    "import sys\n",
    "sys.path.append(\"../\")\n",
    "\n",
    "from modules.autoregressive import MADE"
   ]
  },
  {
   "cell_type": "code",
   "execution_count": 49,
   "id": "96ffaef4",
   "metadata": {},
   "outputs": [
    {
     "data": {
      "text/plain": [
       "((8, 5), (8, 5))"
      ]
     },
     "execution_count": 49,
     "metadata": {},
     "output_type": "execute_result"
    }
   ],
   "source": [
    "from modules.autoregressive import MADE\n",
    "\n",
    "made = MADE(n_params=5, n_context=0, activation=\"tanh\", hidden_dims=[32, 32], name=\"made_0\")\n",
    "key = jax.random.PRNGKey(2)\n",
    "x = jax.random.uniform(key=key, shape=(8, 5))\n",
    "\n",
    "init_params = made.init(key, x)\n",
    "params = made.apply(init_params, x)\n",
    "\n",
    "forward, log_det = distrax.ScalarAffine(shift=params[..., 0], log_scale=params[..., 1]).forward_and_log_det(x)\n",
    "forward.shape, log_det.shape"
   ]
  },
  {
   "cell_type": "code",
   "execution_count": 95,
   "id": "49970652",
   "metadata": {},
   "outputs": [
    {
     "data": {
      "text/plain": [
       "Array([[-5.813867 , -5.5223155, -5.689406 , -6.288032 ],\n",
       "       [-5.5090237, -5.5535507, -5.508765 , -5.299556 ]], dtype=float32)"
      ]
     },
     "execution_count": 95,
     "metadata": {},
     "output_type": "execute_result"
    }
   ],
   "source": [
    "from modules.autoregressive import MAF\n",
    "\n",
    "made = MADE(n_params=5, n_context=0, activation=\"tanh\", hidden_dims=[32, 32], name=\"made_0\")\n",
    "key = jax.random.PRNGKey(2)\n",
    "x = jax.random.uniform(key=key, shape=(2, 4, 5))\n",
    "init_params = made.init(key, x)\n",
    "\n",
    "bijector_fn = lambda x: made.apply(init_params, x)\n",
    "\n",
    "event_shape = x.shape[1:]\n",
    "\n",
    "flow = MAF(bijector_fn)\n",
    "\n",
    "base_dist = distrax.MultivariateNormalDiag(jnp.zeros(5,), jnp.ones(5,))\n",
    "\n",
    "distrax.Transformed(base_dist, flow).log_prob(x)"
   ]
  },
  {
   "cell_type": "code",
   "execution_count": 96,
   "id": "6c526f28",
   "metadata": {},
   "outputs": [
    {
     "data": {
      "text/plain": [
       "Array([-0.15508525,  1.5718881 , -0.37886548,  0.17252125, -0.60508585],      dtype=float32)"
      ]
     },
     "execution_count": 96,
     "metadata": {},
     "output_type": "execute_result"
    }
   ],
   "source": [
    "distrax.Transformed(base_dist, flow).sample(seed=key)"
   ]
  },
  {
   "cell_type": "code",
   "execution_count": 97,
   "id": "567be2fe",
   "metadata": {},
   "outputs": [
    {
     "name": "stdout",
     "output_type": "stream",
     "text": [
      "[[ 0.08049314  0.19977322  0.5477073   0.12634201]\n",
      " [-0.01320131  0.0720925   0.16729566 -0.13098422]]\n"
     ]
    }
   ],
   "source": [
    "y, log_det = flow.forward_and_log_det(x)\n",
    "print(log_det)"
   ]
  },
  {
   "cell_type": "code",
   "execution_count": 98,
   "id": "7ff7163c",
   "metadata": {},
   "outputs": [
    {
     "data": {
      "text/plain": [
       "(Array([[[0.08457661, 0.31502724, 0.83997506, 0.9254357 , 0.8644473 ],\n",
       "         [0.16037524, 0.1584147 , 0.76908594, 0.86303467, 0.21834007],\n",
       "         [0.9804157 , 0.02629685, 0.48894688, 0.07442081, 0.12056994],\n",
       "         [0.9569601 , 0.96784085, 0.7532649 , 0.7426135 , 0.75791216]],\n",
       " \n",
       "        [[0.29766083, 0.6187032 , 0.9520696 , 0.13110866, 0.6226797 ],\n",
       "         [0.28658247, 0.45798576, 0.6337631 , 0.9467083 , 0.41258538],\n",
       "         [0.4673562 , 0.43952918, 0.9372883 , 0.0879786 , 0.04822491],\n",
       "         [0.6085954 , 0.9759288 , 0.36098158, 0.21089767, 0.03525542]]],      dtype=float32),\n",
       " Array([[-0.08049314, -0.19977322, -0.5477073 , -0.12634201],\n",
       "        [ 0.01320131, -0.0720925 , -0.16729566,  0.13098422]],      dtype=float32))"
      ]
     },
     "execution_count": 98,
     "metadata": {},
     "output_type": "execute_result"
    }
   ],
   "source": [
    "flow.inverse_and_log_det(y)"
   ]
  },
  {
   "cell_type": "code",
   "execution_count": 101,
   "id": "a8f849b1",
   "metadata": {},
   "outputs": [],
   "source": [
    "class MaskedAutoregressiveFlow(nn.Module):\n",
    "    n_dim: int\n",
    "    n_context: int = 0\n",
    "    n_transforms: int = 4\n",
    "    hidden_dims: List[int] = dataclasses.field(default_factory=lambda: [32, 32])\n",
    "    activation: str = \"tanh\"\n",
    "    unroll_loop: bool = False\n",
    "\n",
    "    def setup(self):\n",
    "\n",
    "        self.made = [MADE(n_params=self.n_dim, n_context=self.n_context, activation=self.activation, hidden_dims=self.hidden_dims, name=\"made_{}\".format(i)) for i in range(self.n_transforms)]\n",
    "\n",
    "        bijectors = []\n",
    "        for i in range(self.n_transforms):\n",
    "            bijectors.append(tfb.Permute(list(reversed(range(self.n_dim)))))\n",
    "            bijectors.append(MAF(bijector_fn=self.made[i], unroll_loop=self.unroll_loop))\n",
    "        \n",
    "        self.bijector = distrax.Inverse(distrax.Chain(bijectors))\n",
    "\n",
    "    def make_flow_model(self):\n",
    "\n",
    "        flow = self.bijector\n",
    "        base_dist = distrax.Independent(distrax.MultivariateNormalDiag(jnp.zeros(self.n_dim), jnp.ones(self.n_dim)))\n",
    "\n",
    "        return flow, base_dist\n",
    "\n",
    "    def __call__(self, x: jnp.array) -> jnp.array:\n",
    "        flow, base_dist = self.make_flow_model()\n",
    "        return distrax.Transformed(base_dist, flow).log_prob(x)"
   ]
  },
  {
   "cell_type": "code",
   "execution_count": 103,
   "id": "d9780c14",
   "metadata": {},
   "outputs": [],
   "source": [
    "maf = MaskedAutoregressiveFlow(n_dim=5, unroll_loop=True)\n",
    "\n",
    "key = jax.random.PRNGKey(2)\n",
    "x = jax.random.uniform(key=key, shape=(3, 5))\n",
    "params = maf.init(key, x)"
   ]
  },
  {
   "cell_type": "code",
   "execution_count": null,
   "id": "35f28ca3",
   "metadata": {},
   "outputs": [],
   "source": []
  }
 ],
 "metadata": {
  "kernelspec": {
   "display_name": "torch-mps",
   "language": "python",
   "name": "python3"
  },
  "language_info": {
   "codemirror_mode": {
    "name": "ipython",
    "version": 3
   },
   "file_extension": ".py",
   "mimetype": "text/x-python",
   "name": "python",
   "nbconvert_exporter": "python",
   "pygments_lexer": "ipython3",
   "version": "3.9.13"
  },
  "vscode": {
   "interpreter": {
    "hash": "5a325371ee47cd2db67c59416e547ef31e4d442734b91c29d6adc5acbdc2dc08"
   }
  }
 },
 "nbformat": 4,
 "nbformat_minor": 5
}
